{
 "cells": [
  {
   "cell_type": "markdown",
   "id": "d9d979d9-f285-4acc-a702-bb085d5fa170",
   "metadata": {},
   "source": [
    "# 1) Representation of Graph as Adjacency Matrix"
   ]
  },
  {
   "cell_type": "markdown",
   "id": "d22d9b6c-1fea-4f75-aa64-ebb349fb3626",
   "metadata": {},
   "source": [
    "## 1.1) Undirected Graph"
   ]
  },
  {
   "cell_type": "code",
   "execution_count": 32,
   "id": "590ef358-8fbc-4141-9c20-fe5794a5c3d4",
   "metadata": {},
   "outputs": [
    {
     "name": "stdout",
     "output_type": "stream",
     "text": [
      "Adjacency Matrix:\n",
      "0 1 1 0\n",
      "1 0 1 0\n",
      "1 1 0 1\n",
      "0 0 1 0\n"
     ]
    }
   ],
   "source": [
    "# Representation of Undirected Graph as Adjacency Matrix\n",
    "def add_edge(mat, i, j):\n",
    "  \n",
    "    # Add an edge between two vertices\n",
    "    mat[i][j] = 1  # Graph is \n",
    "    mat[j][i] = 1  # Undirected\n",
    "\n",
    "def display_matrix(mat):\n",
    "  \n",
    "    # Display the adjacency matrix\n",
    "    for row in mat:\n",
    "        print(\" \".join(map(str, row)))  \n",
    "\n",
    "# Main function to run the program\n",
    "if __name__ == \"__main__\":\n",
    "    V = 4  # Number of vertices\n",
    "    mat = [[0] * V for _ in range(V)]  \n",
    "\n",
    "    # Add edges to the graph\n",
    "    add_edge(mat, 0, 1) # adds an edge between vertex 0 and vertex 1, marking mat[0][1] = 1 and mat[1][0] = 1.\n",
    "    add_edge(mat, 0, 2)\n",
    "    add_edge(mat, 1, 2)\n",
    "    add_edge(mat, 2, 3)\n",
    "\n",
    "    # Optionally, initialize matrix directly\n",
    "    \"\"\"\n",
    "    mat = [\n",
    "        [0, 1, 0, 0],\n",
    "        [1, 0, 1, 0],\n",
    "        [0, 1, 0, 1],\n",
    "        [0, 0, 1, 0]\n",
    "    ]\n",
    "    \"\"\"\n",
    "\n",
    "    # Display adjacency matrix\n",
    "    print(\"Adjacency Matrix:\")\n",
    "    display_matrix(mat)"
   ]
  },
  {
   "cell_type": "markdown",
   "id": "d1473a90-597c-4c2d-8b85-464b23000afc",
   "metadata": {},
   "source": [
    "## 1.2) Directed Graph"
   ]
  },
  {
   "cell_type": "markdown",
   "id": "c23b5f17-92c2-4a7c-b1ae-fc551512b4ad",
   "metadata": {},
   "source": [
    "- Only set mat[i][j] = 1 (no symmetric assignment like mat[j][i] = 1),\n",
    "The adjacency matrix will now reflect one-way connections."
   ]
  },
  {
   "cell_type": "code",
   "execution_count": 36,
   "id": "d2c9a6f9-9825-4636-b0f7-0b05bfb74114",
   "metadata": {},
   "outputs": [
    {
     "name": "stdout",
     "output_type": "stream",
     "text": [
      "Adjacency Matrix (Directed Graph):\n",
      "0 1 1 0\n",
      "0 0 1 0\n",
      "0 0 0 1\n",
      "0 0 0 0\n"
     ]
    }
   ],
   "source": [
    "def add_edge(mat, i, j):\n",
    "    # Add a directed edge from vertex i to vertex j\n",
    "    mat[i][j] = 1  # Directed edge\n",
    "\n",
    "def display_matrix(mat):\n",
    "    # Display the adjacency matrix\n",
    "    for row in mat:\n",
    "        print(\" \".join(map(str, row)))\n",
    "\n",
    "# Main function to run the program\n",
    "if __name__ == \"__main__\":\n",
    "    V = 4  # Number of vertices\n",
    "    mat = [[0] * V for _ in range(V)]  \n",
    "\n",
    "    # Add directed edges to the graph\n",
    "    add_edge(mat, 0, 1)\n",
    "    add_edge(mat, 0, 2)\n",
    "    add_edge(mat, 1, 2)\n",
    "    add_edge(mat, 2, 3)\n",
    "\n",
    "    # Optionally, initialize matrix directly\n",
    "    \"\"\"\n",
    "    mat = [\n",
    "        [0, 1, 1, 0],\n",
    "        [0, 0, 1, 0],\n",
    "        [0, 0, 0, 1],\n",
    "        [0, 0, 0, 0]\n",
    "    ]\n",
    "    \"\"\"\n",
    "\n",
    "    # Display adjacency matrix\n",
    "    print(\"Adjacency Matrix (Directed Graph):\")\n",
    "    display_matrix(mat)\n"
   ]
  },
  {
   "cell_type": "markdown",
   "id": "4537a7bd-4b4e-4576-a0e5-a38ad0dd93d8",
   "metadata": {},
   "source": [
    "# 2) Representation of Graph as List Matrix"
   ]
  },
  {
   "cell_type": "markdown",
   "id": "c2e4cf30-dc81-44ee-86d1-17fc09e8090c",
   "metadata": {},
   "source": [
    "## 2.1) Undirected Graph"
   ]
  },
  {
   "cell_type": "code",
   "execution_count": 48,
   "id": "8a6b99e4-0e1d-4278-bcbc-ff2307a0a4a5",
   "metadata": {},
   "outputs": [
    {
     "data": {
      "text/plain": [
       "[[], [], [], []]"
      ]
     },
     "execution_count": 48,
     "metadata": {},
     "output_type": "execute_result"
    }
   ],
   "source": [
    "adj = [[] for _ in range(V)]\n",
    "adj"
   ]
  },
  {
   "cell_type": "code",
   "execution_count": 50,
   "id": "11fab24e-221b-42dc-8437-a15615e9195f",
   "metadata": {},
   "outputs": [
    {
     "name": "stdout",
     "output_type": "stream",
     "text": [
      "Adjacency List Representation:\n",
      "0: 1 2 \n",
      "1: 0 2 \n",
      "2: 0 1 3 \n",
      "3: 2 \n"
     ]
    }
   ],
   "source": [
    "def add_edge(adj, i, j):\n",
    "    adj[i].append(j)\n",
    "    adj[j].append(i)  # Undirected\n",
    "\n",
    "def display_adj_list(adj):\n",
    "    for i in range(len(adj)):\n",
    "        print(f\"{i}: \", end=\"\")\n",
    "        for j in adj[i]:\n",
    "            print(j, end=\" \")\n",
    "        print()\n",
    "\n",
    "# Create a graph with 4 vertices and no edges\n",
    "V = 4\n",
    "adj = [[] for _ in range(V)]\n",
    "# Now add edges one by one\n",
    "add_edge(adj, 0, 1)\n",
    "add_edge(adj, 0, 2)\n",
    "add_edge(adj, 1, 2)\n",
    "add_edge(adj, 2, 3)\n",
    "\n",
    "print(\"Adjacency List Representation:\")\n",
    "display_adj_list(adj)\n"
   ]
  },
  {
   "cell_type": "code",
   "execution_count": 52,
   "id": "d09a2d9b-7ec4-4ea4-8c8b-7f84f3d3c24e",
   "metadata": {},
   "outputs": [
    {
     "data": {
      "text/plain": [
       "[[1, 2], [0, 2], [0, 1, 3], [2]]"
      ]
     },
     "execution_count": 52,
     "metadata": {},
     "output_type": "execute_result"
    }
   ],
   "source": [
    "adj"
   ]
  },
  {
   "cell_type": "markdown",
   "id": "8f79062d-dd0c-4f22-aaeb-ebdf36a6099f",
   "metadata": {},
   "source": [
    "## 2.2) Directed Graph"
   ]
  },
  {
   "cell_type": "markdown",
   "id": "4c2b3f2e-a04f-462e-a1e9-11d011f22ab3",
   "metadata": {},
   "source": [
    "- The below directed graph has 3 vertices. So, an array of list will be created of size 3, where each indices represent the vertices. Now, vertex 0 has no neighbours. For vertex 1, it has two neighbour (i.e, 0 and 2) So, insert vertices 0 and 2 at indices 1 of array. Similarly, for vertex 2, insert its neighbours in array of list."
   ]
  },
  {
   "cell_type": "code",
   "execution_count": 54,
   "id": "d4ea737e-66ad-426b-937b-9389848ac3aa",
   "metadata": {},
   "outputs": [
    {
     "name": "stdout",
     "output_type": "stream",
     "text": [
      "Adjacency List Representation:\n",
      "0: \n",
      "1: 0 2 \n",
      "2: 3 \n"
     ]
    }
   ],
   "source": [
    "def add_edge(adj, i, j):\n",
    "    adj[i].append(j)  # Directed edge from i to j (no reciprocal edge)\n",
    "\n",
    "def display_adj_list(adj):\n",
    "    for i in range(len(adj)):\n",
    "        print(f\"{i}: \", end=\"\")\n",
    "        for j in adj[i]:\n",
    "            print(j, end=\" \")\n",
    "        print()\n",
    "\n",
    "# Create a graph with 3 vertices and no edges\n",
    "V = 3\n",
    "adj = [[] for _ in range(V)]\n",
    "\n",
    "# Now add edges one by one (directed edges)\n",
    "add_edge(adj, 1, 0)  # Edge from vertex 1 to vertex 0\n",
    "add_edge(adj, 1, 2)  # Edge from vertex 1 to vertex 2\n",
    "add_edge(adj, 2, 3)  # Edge from vertex 2 to vertex 3\n",
    "\n",
    "print(\"Adjacency List Representation:\")\n",
    "display_adj_list(adj)"
   ]
  },
  {
   "cell_type": "code",
   "execution_count": 56,
   "id": "117287b9-b4f4-4ad9-9870-8b296d95800c",
   "metadata": {},
   "outputs": [
    {
     "data": {
      "text/plain": [
       "[[], [0, 2], [3]]"
      ]
     },
     "execution_count": 56,
     "metadata": {},
     "output_type": "execute_result"
    }
   ],
   "source": [
    "adj"
   ]
  }
 ],
 "metadata": {
  "kernelspec": {
   "display_name": "anaconda-panel-2023.05-py310",
   "language": "python",
   "name": "conda-env-anaconda-panel-2023.05-py310-py"
  },
  "language_info": {
   "codemirror_mode": {
    "name": "ipython",
    "version": 3
   },
   "file_extension": ".py",
   "mimetype": "text/x-python",
   "name": "python",
   "nbconvert_exporter": "python",
   "pygments_lexer": "ipython3",
   "version": "3.11.5"
  }
 },
 "nbformat": 4,
 "nbformat_minor": 5
}
