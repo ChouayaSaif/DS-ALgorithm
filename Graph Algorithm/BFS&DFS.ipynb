{
 "cells": [
  {
   "cell_type": "markdown",
   "id": "78e42ce9-1502-4965-9be1-f91e80c75d2d",
   "metadata": {},
   "source": [
    "## BFS: Breadth First Search for a Graph"
   ]
  },
  {
   "cell_type": "code",
   "execution_count": 19,
   "id": "0f173323-95dc-4f8f-9fa8-2920771eee91",
   "metadata": {},
   "outputs": [
    {
     "name": "stdout",
     "output_type": "stream",
     "text": [
      "BFS starting from 0: \n",
      "deque([0])\n",
      "0 deque([1])\n",
      "deque([1, 2])\n",
      "1 deque([2, 3])\n",
      "deque([2, 3, 4])\n",
      "2 3 4 "
     ]
    }
   ],
   "source": [
    "from collections import deque\n",
    "\n",
    "# BFS from given source s\n",
    "def bfs(adj, s):\n",
    "  \n",
    "    # Create a queue for BFS\n",
    "    q = deque()\n",
    "    \n",
    "    # Initially mark all the vertices as not visited\n",
    "    # When we push a vertex into the q, we mark it as \n",
    "    # visited\n",
    "    visited = [False] * len(adj);\n",
    "\n",
    "    # Mark the source node as visited and enqueue it\n",
    "    visited[s] = True\n",
    "    q.append(s)\n",
    "    print(q)\n",
    "\n",
    "    # Iterate over the queue\n",
    "    while q:\n",
    "      \n",
    "        # Dequeue a vertex from queue and print it\n",
    "        curr = q.popleft()\n",
    "        print(curr, end=\" \")\n",
    "\n",
    "        # Get all adjacent vertices of the dequeued \n",
    "        # vertex. If an adjacent has not been visited, \n",
    "        # mark it visited and enqueue it\n",
    "        for x in adj[curr]:\n",
    "            if not visited[x]:\n",
    "                visited[x] = True\n",
    "                q.append(x)\n",
    "                print(q)\n",
    "\n",
    "# Function to add an edge to the graph\n",
    "def add_edge(adj, u, v):\n",
    "    adj[u].append(v)\n",
    "    adj[v].append(u)\n",
    "\n",
    "# Example usage\n",
    "if __name__ == \"__main__\":\n",
    "  \n",
    "    # Number of vertices in the graph\n",
    "    V = 5\n",
    "\n",
    "    # Adjacency list representation of the graph\n",
    "    adj = [[] for _ in range(V)]\n",
    "\n",
    "    # Add edges to the graph\n",
    "    add_edge(adj, 0, 1)\n",
    "    add_edge(adj, 0, 2)\n",
    "    add_edge(adj, 1, 3)\n",
    "    add_edge(adj, 1, 4)\n",
    "    add_edge(adj, 2, 4)\n",
    "\n",
    "    # Perform BFS traversal starting from vertex 0\n",
    "    print(\"BFS starting from 0: \")\n",
    "    bfs(adj, 0)"
   ]
  },
  {
   "cell_type": "code",
   "execution_count": 4,
   "id": "3baa467a-cf2c-4ec6-8f13-e87520a1f953",
   "metadata": {},
   "outputs": [
    {
     "data": {
      "text/plain": [
       "[[1, 2], [0, 3, 4], [0, 4], [1], [1, 2]]"
      ]
     },
     "execution_count": 4,
     "metadata": {},
     "output_type": "execute_result"
    }
   ],
   "source": [
    "adj"
   ]
  },
  {
   "cell_type": "code",
   "execution_count": 13,
   "id": "ec2e0276-acd1-441f-b795-6b06a071818b",
   "metadata": {},
   "outputs": [
    {
     "name": "stdout",
     "output_type": "stream",
     "text": [
      "0 1 2 3 4 "
     ]
    }
   ],
   "source": [
    "bfs(adj,0)"
   ]
  },
  {
   "cell_type": "markdown",
   "id": "96abed20-5fb4-4bbf-a77b-e06dfa7f5382",
   "metadata": {},
   "source": [
    "## DFS: Depth First Search for a graph"
   ]
  },
  {
   "cell_type": "code",
   "execution_count": 27,
   "id": "eea53ee5-4c29-45cf-9801-cb230255e185",
   "metadata": {},
   "outputs": [
    {
     "name": "stdout",
     "output_type": "stream",
     "text": [
      "DFS from source: 1\n",
      "1 2 0 3 4 "
     ]
    }
   ],
   "source": [
    "def dfs_rec(adj, visited, s):\n",
    "    # Mark the current vertex as visited\n",
    "    visited[s] = True\n",
    "\n",
    "    # Print the current vertex\n",
    "    print(s, end=\" \")\n",
    "\n",
    "    # Recursively visit all adjacent vertices\n",
    "    # that are not visited yet\n",
    "    for i in adj[s]:\n",
    "        if not visited[i]:\n",
    "            dfs_rec(adj, visited, i)\n",
    "\n",
    "\n",
    "def dfs(adj, s):\n",
    "    visited = [False] * len(adj)\n",
    "    # Call the recursive DFS function\n",
    "    dfs_rec(adj, visited, s)\n",
    "\n",
    "def add_edge(adj, s, t):\n",
    "    # Add edge from vertex s to t\n",
    "    adj[s].append(t)\n",
    "    # Due to undirected Graph\n",
    "    adj[t].append(s)\n",
    "    \n",
    "if __name__ == \"__main__\":\n",
    "    V = 5\n",
    "\n",
    "    # Create an adjacency list for the graph\n",
    "    adj = [[] for _ in range(V)]\n",
    "\n",
    "    # Define the edges of the graph\n",
    "    edges = [[1, 2], [1, 0], [2, 0], [2, 3], [2, 4]]\n",
    "\n",
    "    # Populate the adjacency list with edges\n",
    "    for e in edges:\n",
    "        add_edge(adj, e[0], e[1])\n",
    "\n",
    "    source = 1\n",
    "    print(\"DFS from source:\", source)\n",
    "    dfs(adj, source)\n"
   ]
  },
  {
   "cell_type": "code",
   "execution_count": 29,
   "id": "aaf8ca37-647e-46b8-b7fa-74fe804ac925",
   "metadata": {},
   "outputs": [
    {
     "name": "stdout",
     "output_type": "stream",
     "text": [
      "1 2 0 3 4 "
     ]
    }
   ],
   "source": [
    "dfs(adj, source)"
   ]
  }
 ],
 "metadata": {
  "kernelspec": {
   "display_name": "anaconda-2024.02-py310",
   "language": "python",
   "name": "conda-env-anaconda-2024.02-py310-py"
  },
  "language_info": {
   "codemirror_mode": {
    "name": "ipython",
    "version": 3
   },
   "file_extension": ".py",
   "mimetype": "text/x-python",
   "name": "python",
   "nbconvert_exporter": "python",
   "pygments_lexer": "ipython3",
   "version": "3.10.14"
  }
 },
 "nbformat": 4,
 "nbformat_minor": 5
}
