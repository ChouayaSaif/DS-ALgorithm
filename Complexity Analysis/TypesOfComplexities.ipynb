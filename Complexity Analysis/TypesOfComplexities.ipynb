{
 "cells": [
  {
   "cell_type": "markdown",
   "id": "971ad9aa-17d4-45ac-b62e-a81662ef814d",
   "metadata": {},
   "source": [
    "## Types of Complexity in a program"
   ]
  },
  {
   "cell_type": "markdown",
   "id": "5a06c74e-cd5b-4fea-9048-00285344fe76",
   "metadata": {},
   "source": [
    "#### 1. Constant Complexity"
   ]
  },
  {
   "cell_type": "code",
   "execution_count": 2,
   "id": "35d8938e-af11-4bd3-b999-3448731df1e0",
   "metadata": {},
   "outputs": [
    {
     "name": "stdout",
     "output_type": "stream",
     "text": [
      "Odd\n"
     ]
    }
   ],
   "source": [
    "def checkEvenOdd(N):\n",
    "    r = N % 2\n",
    "    if (r == 0):\n",
    "        print(\"Even\")\n",
    "    else:\n",
    "        print(\"Odd\")\n",
    "\n",
    "if __name__ == '__main__':\n",
    "    N = 101\n",
    "    checkEvenOdd(N)"
   ]
  },
  {
   "cell_type": "markdown",
   "id": "42eb24c7-d554-4c40-ba43-2458733e0dfb",
   "metadata": {},
   "source": [
    "#### 2. Logarithmic Complexity"
   ]
  },
  {
   "cell_type": "code",
   "execution_count": 6,
   "id": "16440eec-8b70-415d-b20e-9f1ebe4908be",
   "metadata": {},
   "outputs": [
    {
     "name": "stdout",
     "output_type": "stream",
     "text": [
      "Element is present at index 3\n"
     ]
    }
   ],
   "source": [
    "# Binary Search requires the array to be sorted.\n",
    "def binarySearch(arr, l, r, x):\n",
    "    if r >= l:\n",
    "        mid = l + (r - l) // 2\n",
    "\n",
    "        if arr[mid] == x:\n",
    "            return mid\n",
    "\n",
    "        elif arr[mid] > x:\n",
    "            return binarySearch(arr, l, mid - 1, x)\n",
    "\n",
    "        else:\n",
    "            return binarySearch(arr, mid + 1, r, x)\n",
    "\n",
    "    return -1\n",
    "\n",
    "arr = [2, 3, 4, 10, 40]\n",
    "x = 10\n",
    "\n",
    "result = binarySearch(arr, 0, len(arr) - 1, x)\n",
    "\n",
    "if result == -1:\n",
    "    print(\"Element is not present in array\")\n",
    "else:\n",
    "    print(f\"Element is present at index {result}\")"
   ]
  },
  {
   "cell_type": "markdown",
   "id": "6e379730-18dd-42b2-a485-82bea0815791",
   "metadata": {},
   "source": [
    "#### 3. Linear Complexity"
   ]
  },
  {
   "cell_type": "code",
   "execution_count": 21,
   "id": "44010829-ac86-460e-93c0-74c7cec10036",
   "metadata": {},
   "outputs": [
    {
     "name": "stdout",
     "output_type": "stream",
     "text": [
      "Element is present at index 3\n"
     ]
    }
   ],
   "source": [
    "def search(arr, x):\n",
    "    for i in range(len(arr)):\n",
    "        if arr[i] == x:\n",
    "            return i\n",
    "    return -1\n",
    "\n",
    "if __name__ == \"__main__\":\n",
    "    arr = [2, 3, 4, 10, 40]\n",
    "    x = 10\n",
    "\n",
    "    result = search(arr, x)\n",
    "\n",
    "    if result == -1:\n",
    "        print(\"Element is not present in array\")\n",
    "    else:\n",
    "        print(f\"Element is present at index {result}\")"
   ]
  },
  {
   "cell_type": "markdown",
   "id": "0a1c63c8-e9bb-4d1b-a96b-a26061a092d4",
   "metadata": {},
   "source": [
    "#### 4. Quadratic Complexity"
   ]
  },
  {
   "cell_type": "code",
   "execution_count": 12,
   "id": "b1288182-1aa9-42a0-9f83-2527849ec5fb",
   "metadata": {},
   "outputs": [
    {
     "name": "stdout",
     "output_type": "stream",
     "text": [
      "Yes\n"
     ]
    }
   ],
   "source": [
    "def chkPair(A, x):\n",
    "    size = len(A)\n",
    "    for i in range(size - 1):\n",
    "        for j in range(i + 1, size):\n",
    "            if A[i] + A[j] == x:\n",
    "                return True\n",
    "    return False\n",
    "\n",
    "# Driver code\n",
    "if __name__ == \"__main__\":\n",
    "    A = [0, -1, 2, -3, 1]\n",
    "    x = -2\n",
    "\n",
    "    if chkPair(A, x):\n",
    "        print(\"Yes\")\n",
    "    else:\n",
    "        print(\"No\", x)"
   ]
  },
  {
   "cell_type": "markdown",
   "id": "7ddbb4ef-84ec-4c8c-9893-dd4eaad1f648",
   "metadata": {},
   "source": [
    "#### 5. Factorial Complexity"
   ]
  },
  {
   "cell_type": "code",
   "execution_count": 27,
   "id": "c215be2e-6d9b-4864-a1d5-cc826fd1acfb",
   "metadata": {},
   "outputs": [
    {
     "name": "stdout",
     "output_type": "stream",
     "text": [
      "ABC\n",
      "ACB\n",
      "BAC\n",
      "BCA\n",
      "CBA\n",
      "CAB\n"
     ]
    }
   ],
   "source": [
    "# Function to print permutations of a string\n",
    "def permute(a, l, r):\n",
    "    if l == r:\n",
    "        print(\"\".join(a))\n",
    "    else:\n",
    "        for i in range(l, r + 1):\n",
    "            a[l], a[i] = a[i], a[l]\n",
    "\n",
    "            permute(a, l + 1, r)\n",
    "\n",
    "            a[l], a[i] = a[i], a[l]\n",
    "\n",
    "if __name__ == \"__main__\":\n",
    "    str = list(\"ABC\")\n",
    "    n = len(str)\n",
    "\n",
    "    permute(str, 0, n - 1)"
   ]
  },
  {
   "cell_type": "markdown",
   "id": "7d4f82f4-7ada-4310-9ac6-1978383fd279",
   "metadata": {},
   "source": [
    "#### 6. Exponential Complexity"
   ]
  },
  {
   "cell_type": "code",
   "execution_count": 16,
   "id": "e3b5af18-1894-4d4c-8c8a-88ddba3a2173",
   "metadata": {},
   "outputs": [
    {
     "name": "stdout",
     "output_type": "stream",
     "text": [
      "Found a subset with given sum\n"
     ]
    }
   ],
   "source": [
    "def isSubsetSum(set, n, sum):\n",
    "    if (sum == 0):\n",
    "        return True\n",
    "    if (n == 0):\n",
    "        return False\n",
    "\n",
    "    # If last element is greater than sum,\n",
    "    # then ignore it\n",
    "    if (set[n - 1] > sum):\n",
    "        return isSubsetSum(set, n - 1, sum)\n",
    "\n",
    "    # Check if sum can be obtained by\n",
    "    # (a) including the last element\n",
    "    # (b) excluding the last element\n",
    "    return (isSubsetSum(set, n - 1, sum)\n",
    "            or isSubsetSum(set, n - 1, sum - set[n - 1]))\n",
    "    \n",
    "if __name__ == \"__main__\":\n",
    "    set = [3, 34, 4, 12, 5, 2]\n",
    "    sum = 9\n",
    "    n = len(set)\n",
    "    if (isSubsetSum(set, n, sum)):\n",
    "        print(\"Found a subset with given sum\")\n",
    "    else:\n",
    "        print(\"No subset with given sum\")"
   ]
  }
 ],
 "metadata": {
  "kernelspec": {
   "display_name": "anaconda-2024.02-py310",
   "language": "python",
   "name": "conda-env-anaconda-2024.02-py310-py"
  },
  "language_info": {
   "codemirror_mode": {
    "name": "ipython",
    "version": 3
   },
   "file_extension": ".py",
   "mimetype": "text/x-python",
   "name": "python",
   "nbconvert_exporter": "python",
   "pygments_lexer": "ipython3",
   "version": "3.10.14"
  }
 },
 "nbformat": 4,
 "nbformat_minor": 5
}
